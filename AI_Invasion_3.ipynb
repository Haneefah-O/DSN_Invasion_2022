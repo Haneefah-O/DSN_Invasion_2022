{
 "cells": [
  {
   "cell_type": "markdown",
   "metadata": {},
   "source": [
    "AI Invasion Day 3"
   ]
  },
  {
   "cell_type": "code",
   "execution_count": 2,
   "metadata": {},
   "outputs": [],
   "source": [
    "import pandas as pd\n",
    "import numpy as np\n",
    "\n",
    "import matplotlib.pyplot as plt\n",
    "import seaborn\n",
    "import sklearn\n",
    "\n",
    "from sklearn.preprocessing import OneHotEncoder, LabelEncoder\n",
    "from sklearn.model_selection import train_test_split"
   ]
  },
  {
   "cell_type": "code",
   "execution_count": 3,
   "metadata": {},
   "outputs": [
    {
     "data": {
      "text/html": [
       "<div>\n",
       "<style scoped>\n",
       "    .dataframe tbody tr th:only-of-type {\n",
       "        vertical-align: middle;\n",
       "    }\n",
       "\n",
       "    .dataframe tbody tr th {\n",
       "        vertical-align: top;\n",
       "    }\n",
       "\n",
       "    .dataframe thead th {\n",
       "        text-align: right;\n",
       "    }\n",
       "</style>\n",
       "<table border=\"1\" class=\"dataframe\">\n",
       "  <thead>\n",
       "    <tr style=\"text-align: right;\">\n",
       "      <th></th>\n",
       "      <th>Location</th>\n",
       "      <th>Maker</th>\n",
       "      <th>Model</th>\n",
       "      <th>Year</th>\n",
       "      <th>Colour</th>\n",
       "      <th>Amount (Million ₦)</th>\n",
       "      <th>Type</th>\n",
       "      <th>Distance_Km</th>\n",
       "    </tr>\n",
       "  </thead>\n",
       "  <tbody>\n",
       "    <tr>\n",
       "      <th>0</th>\n",
       "      <td>Abuja</td>\n",
       "      <td>Mercedes-Benz</td>\n",
       "      <td>GLA 250</td>\n",
       "      <td>2015.0</td>\n",
       "      <td>Brown</td>\n",
       "      <td>14.50</td>\n",
       "      <td>Foreign Used</td>\n",
       "      <td>50000.0</td>\n",
       "    </tr>\n",
       "    <tr>\n",
       "      <th>1</th>\n",
       "      <td>Abuja</td>\n",
       "      <td>Hyundai</td>\n",
       "      <td>Accent</td>\n",
       "      <td>2013.0</td>\n",
       "      <td>Red</td>\n",
       "      <td>1.55</td>\n",
       "      <td>Nigerian Used</td>\n",
       "      <td>NaN</td>\n",
       "    </tr>\n",
       "    <tr>\n",
       "      <th>2</th>\n",
       "      <td>Lagos</td>\n",
       "      <td>Lexus</td>\n",
       "      <td>GX 460 Premium</td>\n",
       "      <td>2011.0</td>\n",
       "      <td>White</td>\n",
       "      <td>14.00</td>\n",
       "      <td>Foreign Used</td>\n",
       "      <td>85000.0</td>\n",
       "    </tr>\n",
       "    <tr>\n",
       "      <th>3</th>\n",
       "      <td>Lagos</td>\n",
       "      <td>Lexus</td>\n",
       "      <td>ES 350</td>\n",
       "      <td>2011.0</td>\n",
       "      <td>Gray</td>\n",
       "      <td>4.95</td>\n",
       "      <td>Foreign Used</td>\n",
       "      <td>NaN</td>\n",
       "    </tr>\n",
       "    <tr>\n",
       "      <th>4</th>\n",
       "      <td>Ibadan</td>\n",
       "      <td>Toyota</td>\n",
       "      <td>Verso 1.6</td>\n",
       "      <td>2009.0</td>\n",
       "      <td>Silver</td>\n",
       "      <td>1.69</td>\n",
       "      <td>Nigerian Used</td>\n",
       "      <td>118906.0</td>\n",
       "    </tr>\n",
       "  </tbody>\n",
       "</table>\n",
       "</div>"
      ],
      "text/plain": [
       "  Location          Maker           Model    Year  Colour  Amount (Million ₦)  \\\n",
       "0    Abuja  Mercedes-Benz         GLA 250  2015.0   Brown               14.50   \n",
       "1    Abuja        Hyundai          Accent  2013.0     Red                1.55   \n",
       "2    Lagos          Lexus  GX 460 Premium  2011.0   White               14.00   \n",
       "3    Lagos          Lexus          ES 350  2011.0    Gray                4.95   \n",
       "4   Ibadan         Toyota       Verso 1.6  2009.0  Silver                1.69   \n",
       "\n",
       "            Type  Distance_Km  \n",
       "0   Foreign Used      50000.0  \n",
       "1  Nigerian Used          NaN  \n",
       "2   Foreign Used      85000.0  \n",
       "3   Foreign Used          NaN  \n",
       "4  Nigerian Used     118906.0  "
      ]
     },
     "execution_count": 3,
     "metadata": {},
     "output_type": "execute_result"
    }
   ],
   "source": [
    "df = pd.read_excel(\"./AI_Invasion_In-Class_Dataset.xlsx\")\n",
    "\n",
    "df.head()"
   ]
  },
  {
   "cell_type": "code",
   "execution_count": 4,
   "metadata": {},
   "outputs": [
    {
     "name": "stdout",
     "output_type": "stream",
     "text": [
      "<class 'pandas.core.frame.DataFrame'>\n",
      "RangeIndex: 4487 entries, 0 to 4486\n",
      "Data columns (total 8 columns):\n",
      " #   Column              Non-Null Count  Dtype  \n",
      "---  ------              --------------  -----  \n",
      " 0   Location            4487 non-null   object \n",
      " 1   Maker               4487 non-null   object \n",
      " 2   Model               4487 non-null   object \n",
      " 3   Year                4487 non-null   float64\n",
      " 4   Colour              4487 non-null   object \n",
      " 5   Amount (Million ₦)  4487 non-null   float64\n",
      " 6   Type                4487 non-null   object \n",
      " 7   Distance_Km         2932 non-null   float64\n",
      "dtypes: float64(3), object(5)\n",
      "memory usage: 280.6+ KB\n"
     ]
    }
   ],
   "source": [
    "df.info()"
   ]
  },
  {
   "cell_type": "code",
   "execution_count": 5,
   "metadata": {},
   "outputs": [
    {
     "data": {
      "text/html": [
       "<div>\n",
       "<style scoped>\n",
       "    .dataframe tbody tr th:only-of-type {\n",
       "        vertical-align: middle;\n",
       "    }\n",
       "\n",
       "    .dataframe tbody tr th {\n",
       "        vertical-align: top;\n",
       "    }\n",
       "\n",
       "    .dataframe thead th {\n",
       "        text-align: right;\n",
       "    }\n",
       "</style>\n",
       "<table border=\"1\" class=\"dataframe\">\n",
       "  <thead>\n",
       "    <tr style=\"text-align: right;\">\n",
       "      <th></th>\n",
       "      <th>Year</th>\n",
       "      <th>Amount (Million ₦)</th>\n",
       "      <th>Distance_Km</th>\n",
       "    </tr>\n",
       "  </thead>\n",
       "  <tbody>\n",
       "    <tr>\n",
       "      <th>count</th>\n",
       "      <td>4487.000000</td>\n",
       "      <td>4487.000000</td>\n",
       "      <td>2.932000e+03</td>\n",
       "    </tr>\n",
       "    <tr>\n",
       "      <th>mean</th>\n",
       "      <td>2011.095610</td>\n",
       "      <td>11.309795</td>\n",
       "      <td>1.010383e+05</td>\n",
       "    </tr>\n",
       "    <tr>\n",
       "      <th>std</th>\n",
       "      <td>4.823362</td>\n",
       "      <td>20.585915</td>\n",
       "      <td>1.150914e+05</td>\n",
       "    </tr>\n",
       "    <tr>\n",
       "      <th>min</th>\n",
       "      <td>1982.000000</td>\n",
       "      <td>0.420000</td>\n",
       "      <td>1.000000e+00</td>\n",
       "    </tr>\n",
       "    <tr>\n",
       "      <th>25%</th>\n",
       "      <td>2008.000000</td>\n",
       "      <td>3.600000</td>\n",
       "      <td>5.237850e+04</td>\n",
       "    </tr>\n",
       "    <tr>\n",
       "      <th>50%</th>\n",
       "      <td>2011.000000</td>\n",
       "      <td>5.700000</td>\n",
       "      <td>7.900000e+04</td>\n",
       "    </tr>\n",
       "    <tr>\n",
       "      <th>75%</th>\n",
       "      <td>2014.000000</td>\n",
       "      <td>12.000000</td>\n",
       "      <td>1.099392e+05</td>\n",
       "    </tr>\n",
       "    <tr>\n",
       "      <th>max</th>\n",
       "      <td>2022.000000</td>\n",
       "      <td>454.000000</td>\n",
       "      <td>1.785448e+06</td>\n",
       "    </tr>\n",
       "  </tbody>\n",
       "</table>\n",
       "</div>"
      ],
      "text/plain": [
       "              Year  Amount (Million ₦)   Distance_Km\n",
       "count  4487.000000         4487.000000  2.932000e+03\n",
       "mean   2011.095610           11.309795  1.010383e+05\n",
       "std       4.823362           20.585915  1.150914e+05\n",
       "min    1982.000000            0.420000  1.000000e+00\n",
       "25%    2008.000000            3.600000  5.237850e+04\n",
       "50%    2011.000000            5.700000  7.900000e+04\n",
       "75%    2014.000000           12.000000  1.099392e+05\n",
       "max    2022.000000          454.000000  1.785448e+06"
      ]
     },
     "execution_count": 5,
     "metadata": {},
     "output_type": "execute_result"
    }
   ],
   "source": [
    "df.describe()"
   ]
  },
  {
   "cell_type": "code",
   "execution_count": 17,
   "metadata": {},
   "outputs": [
    {
     "name": "stdout",
     "output_type": "stream",
     "text": [
      "101038.32128239772\n",
      "<class 'pandas.core.frame.DataFrame'>\n",
      "RangeIndex: 4487 entries, 0 to 4486\n",
      "Data columns (total 7 columns):\n",
      " #   Column              Non-Null Count  Dtype  \n",
      "---  ------              --------------  -----  \n",
      " 0   Year                4487 non-null   float64\n",
      " 1   Amount (Million ₦)  4487 non-null   float64\n",
      " 2   Distance_Km         4487 non-null   float64\n",
      " 3   Location_cat        4487 non-null   int8   \n",
      " 4   Maker_cat           4487 non-null   int8   \n",
      " 5   Colour_cat          4487 non-null   int8   \n",
      " 6   Type_cat            4487 non-null   int8   \n",
      "dtypes: float64(3), int8(4)\n",
      "memory usage: 122.8 KB\n"
     ]
    }
   ],
   "source": [
    "mean_value = df['Distance_Km'].mean()\n",
    "print(mean_value)\n",
    "\n",
    "df['Distance_Km'].fillna(mean_value, inplace=True)\n",
    "df.info()"
   ]
  },
  {
   "cell_type": "code",
   "execution_count": 7,
   "metadata": {},
   "outputs": [
    {
     "data": {
      "text/plain": [
       "Camry              437\n",
       "Corolla            202\n",
       "ES 350             188\n",
       "C300               133\n",
       "Accord             104\n",
       "                  ... \n",
       "Ranger XL            1\n",
       "MDX Base FWD         1\n",
       "Odyssey 2.4 2WD      1\n",
       "Traverse 1LT         1\n",
       "Outback              1\n",
       "Name: Model, Length: 897, dtype: int64"
      ]
     },
     "execution_count": 7,
     "metadata": {},
     "output_type": "execute_result"
    }
   ],
   "source": [
    "df['Model'].value_counts()"
   ]
  },
  {
   "cell_type": "code",
   "execution_count": 8,
   "metadata": {},
   "outputs": [],
   "source": [
    "df.drop('Model', axis =1, inplace=True)"
   ]
  },
  {
   "cell_type": "code",
   "execution_count": 9,
   "metadata": {},
   "outputs": [
    {
     "data": {
      "text/html": [
       "<div>\n",
       "<style scoped>\n",
       "    .dataframe tbody tr th:only-of-type {\n",
       "        vertical-align: middle;\n",
       "    }\n",
       "\n",
       "    .dataframe tbody tr th {\n",
       "        vertical-align: top;\n",
       "    }\n",
       "\n",
       "    .dataframe thead th {\n",
       "        text-align: right;\n",
       "    }\n",
       "</style>\n",
       "<table border=\"1\" class=\"dataframe\">\n",
       "  <thead>\n",
       "    <tr style=\"text-align: right;\">\n",
       "      <th></th>\n",
       "      <th>Location</th>\n",
       "      <th>Maker</th>\n",
       "      <th>Year</th>\n",
       "      <th>Colour</th>\n",
       "      <th>Amount (Million ₦)</th>\n",
       "      <th>Type</th>\n",
       "      <th>Distance_Km</th>\n",
       "      <th>Location_cat</th>\n",
       "      <th>Maker_cat</th>\n",
       "      <th>Colour_cat</th>\n",
       "      <th>Type_cat</th>\n",
       "    </tr>\n",
       "  </thead>\n",
       "  <tbody>\n",
       "    <tr>\n",
       "      <th>0</th>\n",
       "      <td>Abuja</td>\n",
       "      <td>Mercedes-Benz</td>\n",
       "      <td>2015.0</td>\n",
       "      <td>Brown</td>\n",
       "      <td>14.50</td>\n",
       "      <td>Foreign Used</td>\n",
       "      <td>50000.000000</td>\n",
       "      <td>0</td>\n",
       "      <td>26</td>\n",
       "      <td>3</td>\n",
       "      <td>1</td>\n",
       "    </tr>\n",
       "    <tr>\n",
       "      <th>1</th>\n",
       "      <td>Abuja</td>\n",
       "      <td>Hyundai</td>\n",
       "      <td>2013.0</td>\n",
       "      <td>Red</td>\n",
       "      <td>1.55</td>\n",
       "      <td>Nigerian Used</td>\n",
       "      <td>101038.321282</td>\n",
       "      <td>0</td>\n",
       "      <td>14</td>\n",
       "      <td>14</td>\n",
       "      <td>2</td>\n",
       "    </tr>\n",
       "    <tr>\n",
       "      <th>2</th>\n",
       "      <td>Lagos</td>\n",
       "      <td>Lexus</td>\n",
       "      <td>2011.0</td>\n",
       "      <td>White</td>\n",
       "      <td>14.00</td>\n",
       "      <td>Foreign Used</td>\n",
       "      <td>85000.000000</td>\n",
       "      <td>2</td>\n",
       "      <td>23</td>\n",
       "      <td>17</td>\n",
       "      <td>1</td>\n",
       "    </tr>\n",
       "    <tr>\n",
       "      <th>3</th>\n",
       "      <td>Lagos</td>\n",
       "      <td>Lexus</td>\n",
       "      <td>2011.0</td>\n",
       "      <td>Gray</td>\n",
       "      <td>4.95</td>\n",
       "      <td>Foreign Used</td>\n",
       "      <td>101038.321282</td>\n",
       "      <td>2</td>\n",
       "      <td>23</td>\n",
       "      <td>6</td>\n",
       "      <td>1</td>\n",
       "    </tr>\n",
       "    <tr>\n",
       "      <th>4</th>\n",
       "      <td>Ibadan</td>\n",
       "      <td>Toyota</td>\n",
       "      <td>2009.0</td>\n",
       "      <td>Silver</td>\n",
       "      <td>1.69</td>\n",
       "      <td>Nigerian Used</td>\n",
       "      <td>118906.000000</td>\n",
       "      <td>1</td>\n",
       "      <td>44</td>\n",
       "      <td>15</td>\n",
       "      <td>2</td>\n",
       "    </tr>\n",
       "  </tbody>\n",
       "</table>\n",
       "</div>"
      ],
      "text/plain": [
       "  Location          Maker    Year  Colour  Amount (Million ₦)           Type  \\\n",
       "0    Abuja  Mercedes-Benz  2015.0   Brown               14.50   Foreign Used   \n",
       "1    Abuja        Hyundai  2013.0     Red                1.55  Nigerian Used   \n",
       "2    Lagos          Lexus  2011.0   White               14.00   Foreign Used   \n",
       "3    Lagos          Lexus  2011.0    Gray                4.95   Foreign Used   \n",
       "4   Ibadan         Toyota  2009.0  Silver                1.69  Nigerian Used   \n",
       "\n",
       "     Distance_Km  Location_cat  Maker_cat  Colour_cat  Type_cat  \n",
       "0   50000.000000             0         26           3         1  \n",
       "1  101038.321282             0         14          14         2  \n",
       "2   85000.000000             2         23          17         1  \n",
       "3  101038.321282             2         23           6         1  \n",
       "4  118906.000000             1         44          15         2  "
      ]
     },
     "execution_count": 9,
     "metadata": {},
     "output_type": "execute_result"
    }
   ],
   "source": [
    "cat_features = ['Location', 'Maker', 'Colour', 'Type']\n",
    "\n",
    "for cat_feature in cat_features:\n",
    "    df[f'{cat_feature}_cat'] = df[cat_feature].astype('category')\n",
    "    df[f'{cat_feature}_cat'] = df[f'{cat_feature}_cat'].cat.codes\n",
    "\n",
    "df.head()"
   ]
  },
  {
   "cell_type": "code",
   "execution_count": 10,
   "metadata": {},
   "outputs": [
    {
     "data": {
      "text/html": [
       "<div>\n",
       "<style scoped>\n",
       "    .dataframe tbody tr th:only-of-type {\n",
       "        vertical-align: middle;\n",
       "    }\n",
       "\n",
       "    .dataframe tbody tr th {\n",
       "        vertical-align: top;\n",
       "    }\n",
       "\n",
       "    .dataframe thead th {\n",
       "        text-align: right;\n",
       "    }\n",
       "</style>\n",
       "<table border=\"1\" class=\"dataframe\">\n",
       "  <thead>\n",
       "    <tr style=\"text-align: right;\">\n",
       "      <th></th>\n",
       "      <th>Year</th>\n",
       "      <th>Amount (Million ₦)</th>\n",
       "      <th>Distance_Km</th>\n",
       "      <th>Location_cat</th>\n",
       "      <th>Maker_cat</th>\n",
       "      <th>Colour_cat</th>\n",
       "      <th>Type_cat</th>\n",
       "    </tr>\n",
       "  </thead>\n",
       "  <tbody>\n",
       "    <tr>\n",
       "      <th>0</th>\n",
       "      <td>2015.0</td>\n",
       "      <td>14.50</td>\n",
       "      <td>50000.000000</td>\n",
       "      <td>0</td>\n",
       "      <td>26</td>\n",
       "      <td>3</td>\n",
       "      <td>1</td>\n",
       "    </tr>\n",
       "    <tr>\n",
       "      <th>1</th>\n",
       "      <td>2013.0</td>\n",
       "      <td>1.55</td>\n",
       "      <td>101038.321282</td>\n",
       "      <td>0</td>\n",
       "      <td>14</td>\n",
       "      <td>14</td>\n",
       "      <td>2</td>\n",
       "    </tr>\n",
       "    <tr>\n",
       "      <th>2</th>\n",
       "      <td>2011.0</td>\n",
       "      <td>14.00</td>\n",
       "      <td>85000.000000</td>\n",
       "      <td>2</td>\n",
       "      <td>23</td>\n",
       "      <td>17</td>\n",
       "      <td>1</td>\n",
       "    </tr>\n",
       "    <tr>\n",
       "      <th>3</th>\n",
       "      <td>2011.0</td>\n",
       "      <td>4.95</td>\n",
       "      <td>101038.321282</td>\n",
       "      <td>2</td>\n",
       "      <td>23</td>\n",
       "      <td>6</td>\n",
       "      <td>1</td>\n",
       "    </tr>\n",
       "    <tr>\n",
       "      <th>4</th>\n",
       "      <td>2009.0</td>\n",
       "      <td>1.69</td>\n",
       "      <td>118906.000000</td>\n",
       "      <td>1</td>\n",
       "      <td>44</td>\n",
       "      <td>15</td>\n",
       "      <td>2</td>\n",
       "    </tr>\n",
       "  </tbody>\n",
       "</table>\n",
       "</div>"
      ],
      "text/plain": [
       "     Year  Amount (Million ₦)    Distance_Km  Location_cat  Maker_cat  \\\n",
       "0  2015.0               14.50   50000.000000             0         26   \n",
       "1  2013.0                1.55  101038.321282             0         14   \n",
       "2  2011.0               14.00   85000.000000             2         23   \n",
       "3  2011.0                4.95  101038.321282             2         23   \n",
       "4  2009.0                1.69  118906.000000             1         44   \n",
       "\n",
       "   Colour_cat  Type_cat  \n",
       "0           3         1  \n",
       "1          14         2  \n",
       "2          17         1  \n",
       "3           6         1  \n",
       "4          15         2  "
      ]
     },
     "execution_count": 10,
     "metadata": {},
     "output_type": "execute_result"
    }
   ],
   "source": [
    "df.drop(cat_features, axis = 1, inplace=True)\n",
    "df.head()"
   ]
  },
  {
   "cell_type": "code",
   "execution_count": 11,
   "metadata": {},
   "outputs": [
    {
     "data": {
      "text/plain": [
       "(1347, 6)"
      ]
     },
     "execution_count": 11,
     "metadata": {},
     "output_type": "execute_result"
    }
   ],
   "source": [
    "y = df[\"Amount (Million ₦)\"] # Target\n",
    "X = df.drop(\"Amount (Million ₦)\", axis=1)\n",
    "\n",
    "X_train, X_test, y_train, y_test = train_test_split(X, y, test_size = 0.3)\n",
    "\n",
    "X_train.shape\n",
    "X_test.shape\n"
   ]
  },
  {
   "cell_type": "code",
   "execution_count": 12,
   "metadata": {},
   "outputs": [
    {
     "data": {
      "text/plain": [
       "LinearRegression()"
      ]
     },
     "execution_count": 12,
     "metadata": {},
     "output_type": "execute_result"
    }
   ],
   "source": [
    "from sklearn.linear_model import LinearRegression, LogisticRegression\n",
    "\n",
    "Lin_reg =LinearRegression()\n",
    "Lin_reg.fit(X_train, y_train)"
   ]
  },
  {
   "cell_type": "code",
   "execution_count": 13,
   "metadata": {},
   "outputs": [
    {
     "name": "stdout",
     "output_type": "stream",
     "text": [
      "MAE 7.413826963622159\n"
     ]
    }
   ],
   "source": [
    "y_pred = Lin_reg.predict(X_test)\n",
    "\n",
    "from sklearn.metrics import mean_absolute_error\n",
    "\n",
    "print('MAE', mean_absolute_error(y_test, y_pred))"
   ]
  },
  {
   "cell_type": "code",
   "execution_count": 14,
   "metadata": {},
   "outputs": [
    {
     "name": "stdout",
     "output_type": "stream",
     "text": [
      "MAE 4.885937175204157\n"
     ]
    }
   ],
   "source": [
    "from sklearn.tree import DecisionTreeRegressor\n",
    "\n",
    "dt_reg = DecisionTreeRegressor()\n",
    "dt_reg.fit(X_train, y_train)\n",
    "dt_y_pred = dt_reg.predict(X_test)\n",
    "\n",
    "print(\"MAE\",mean_absolute_error(y_test,dt_y_pred))"
   ]
  },
  {
   "cell_type": "code",
   "execution_count": 15,
   "metadata": {},
   "outputs": [
    {
     "name": "stdout",
     "output_type": "stream",
     "text": [
      "MAE 4.1834432142964735\n"
     ]
    }
   ],
   "source": [
    "from sklearn.ensemble import RandomForestRegressor\n",
    "\n",
    "R_reg = RandomForestRegressor()\n",
    "R_reg.fit(X_train, y_train)\n",
    "R_pred = R_reg.predict(X_test)\n",
    "\n",
    "print(\"MAE\",mean_absolute_error(y_test,R_pred))"
   ]
  }
 ],
 "metadata": {
  "interpreter": {
   "hash": "7bfad015f392dc9ecca55ec754fd4fd8e02884c4d3472e52a44ac6b2e17997ba"
  },
  "kernelspec": {
   "display_name": "Python 3.9.7 ('base')",
   "language": "python",
   "name": "python3"
  },
  "language_info": {
   "codemirror_mode": {
    "name": "ipython",
    "version": 3
   },
   "file_extension": ".py",
   "mimetype": "text/x-python",
   "name": "python",
   "nbconvert_exporter": "python",
   "pygments_lexer": "ipython3",
   "version": "3.9.7"
  },
  "orig_nbformat": 4
 },
 "nbformat": 4,
 "nbformat_minor": 2
}
